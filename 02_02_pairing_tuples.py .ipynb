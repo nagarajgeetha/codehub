{
 "cells": [
  {
   "cell_type": "code",
   "execution_count": 26,
   "id": "84498a51",
   "metadata": {},
   "outputs": [
    {
     "name": "stdout",
     "output_type": "stream",
     "text": [
      "[1, 2, 5, 1, 2]\n",
      "None\n"
     ]
    }
   ],
   "source": [
    "### This code creates a random list for you to use\n",
    "import random\n",
    "\n",
    "list_length = random.randint(1, 20)\n",
    "randlist = list()\n",
    "for i in range(list_length):\n",
    "    randlist.append(random.randint(1, 100))\n",
    "\n",
    "\n",
    "# Write a script that takes randlist (a list of numbers) and:\n",
    "#     - sorts the numbers\n",
    "#     - stores the numbers in tuples of two in a new list\n",
    "#     - prints each tuple\n",
    "#\n",
    "# If the list has an odd number of items,\n",
    "# add the last item to a tuple together with the number `0`.\n",
    "\n",
    "# Note: This lab might be challenging! Make sure to discuss ask questions\n",
    "# and get help!  You will need a python function called `sort`\n",
    "\n",
    "# example input :[1,2,5,1,2]\n",
    "# example output :[(1,1), (2,2), (5,0)]\n",
    "\n",
    "import random\n",
    "\n",
    "list_length = random.randint(1, 20)\n",
    "randlist = list()\n",
    "for i in range(list_length):\n",
    "    randlist.append(random.randint(1, 100))\n",
    "\n",
    "\n",
    "user_input=[1,2,5,1,2]\n",
    "\n",
    "\n",
    "print(user_input)\n",
    "print(user_input.sort())\n",
    "\n",
    "\n",
    "\n"
   ]
  },
  {
   "cell_type": "code",
   "execution_count": null,
   "id": "939ab623",
   "metadata": {},
   "outputs": [],
   "source": []
  }
 ],
 "metadata": {
  "kernelspec": {
   "display_name": "Python 3 (ipykernel)",
   "language": "python",
   "name": "python3"
  },
  "language_info": {
   "codemirror_mode": {
    "name": "ipython",
    "version": 3
   },
   "file_extension": ".py",
   "mimetype": "text/x-python",
   "name": "python",
   "nbconvert_exporter": "python",
   "pygments_lexer": "ipython3",
   "version": "3.9.7"
  }
 },
 "nbformat": 4,
 "nbformat_minor": 5
}
