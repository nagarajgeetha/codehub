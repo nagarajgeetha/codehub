{
 "cells": [
  {
   "cell_type": "code",
   "execution_count": 6,
   "id": "b70b2973",
   "metadata": {},
   "outputs": [
    {
     "name": "stdout",
     "output_type": "stream",
     "text": [
      "The numbers divisible by the given divisor are   [125, 45]\n",
      "The other numbers in the list are  [8, 2, 3, 12, 32, 21, 3, 6, 23, 12, 3, 326, 12, 32, 14, 2]\n"
     ]
    }
   ],
   "source": [
    "# rewrite your function from the previous exercise (01_01_dry.py)\n",
    "# this time your function should be able change the divisible by number.\n",
    "\n",
    "# I should be able to return the list of numbers which is divisible by \"n\", where\n",
    "# 'n' can be any number.\n",
    "\n",
    "## Input: a list of integers, a number 'n'\n",
    "## output: a new list that only has retains numbers which are divisible by n\n",
    "\n",
    "\n",
    "numbers = [8, 2, 3, 125, 12, 32, 21, 3, 6, 23, 12, 3, 326, 45, 12, 32, 14, 2]\n",
    "divisor=5\n",
    "def find_even(numbers,divisor):\n",
    "    \n",
    "    other_numb=[]\n",
    "   \n",
    "    new_div_2 = []\n",
    "    for i in numbers:\n",
    "        if i % divisor == 0:\n",
    "            new_div_2.append(i)\n",
    "                \n",
    "        \n",
    "        else:\n",
    "                      \n",
    "                other_numb.append(i)\n",
    "             \n",
    "\n",
    "    print(\"The numbers divisible by the given divisor are  \",new_div_2)\n",
    "    print(\"The other numbers in the list are \",other_numb)\n",
    "\n",
    "\n",
    "find_even(numbers,divisor)\n",
    "\n",
    "\n",
    "\n",
    "\n",
    "      \n",
    "\n",
    "\n"
   ]
  },
  {
   "cell_type": "code",
   "execution_count": null,
   "id": "48906b08",
   "metadata": {},
   "outputs": [],
   "source": []
  },
  {
   "cell_type": "code",
   "execution_count": null,
   "id": "4c4e9087",
   "metadata": {},
   "outputs": [],
   "source": []
  },
  {
   "cell_type": "code",
   "execution_count": null,
   "id": "0aed5399",
   "metadata": {},
   "outputs": [],
   "source": []
  }
 ],
 "metadata": {
  "kernelspec": {
   "display_name": "Python 3 (ipykernel)",
   "language": "python",
   "name": "python3"
  },
  "language_info": {
   "codemirror_mode": {
    "name": "ipython",
    "version": 3
   },
   "file_extension": ".py",
   "mimetype": "text/x-python",
   "name": "python",
   "nbconvert_exporter": "python",
   "pygments_lexer": "ipython3",
   "version": "3.9.7"
  }
 },
 "nbformat": 4,
 "nbformat_minor": 5
}
