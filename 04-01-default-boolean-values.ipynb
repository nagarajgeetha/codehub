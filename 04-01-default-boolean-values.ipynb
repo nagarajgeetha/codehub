{
 "cells": [
  {
   "cell_type": "code",
   "execution_count": 5,
   "id": "d0e8a4bb",
   "metadata": {},
   "outputs": [
    {
     "name": "stdout",
     "output_type": "stream",
     "text": [
      "True\n",
      "True\n",
      "True\n",
      "False\n",
      "True\n",
      "True\n",
      "True\n",
      "False\n"
     ]
    }
   ],
   "source": [
    "# Boolean Exercise_1\n",
    "# Let's check all the default boolean values of the types we know\n",
    "\n",
    "# make\n",
    "# an int\n",
    "# a float\n",
    "# a string\n",
    "# the int 0\n",
    "# the int 1\n",
    "# the int 1000\n",
    "\n",
    "# now print out all the `bool()` values using the bool() function\n",
    "# are you surprised at the default boolean value for any python type?\n",
    "\n",
    "myint=7\n",
    "myfloat=7.0\n",
    "mystr=\"seven\"\n",
    "myint1=0\n",
    "myint2=1\n",
    "myint3=1000\n",
    "myint4=-1\n",
    "mystr1=\"\"\n",
    "print(bool(myint))\n",
    "print(bool(myfloat))\n",
    "print(bool(mystr))\n",
    "print(bool(myint1))\n",
    "print(bool(myint2))\n",
    "print(bool(myint3))\n",
    "print(bool(myint4))\n",
    "print(bool(mystr1))"
   ]
  },
  {
   "cell_type": "code",
   "execution_count": null,
   "id": "9ee4533c",
   "metadata": {},
   "outputs": [],
   "source": []
  },
  {
   "cell_type": "code",
   "execution_count": null,
   "id": "22fbbc03",
   "metadata": {},
   "outputs": [],
   "source": []
  }
 ],
 "metadata": {
  "kernelspec": {
   "display_name": "Python 3 (ipykernel)",
   "language": "python",
   "name": "python3"
  },
  "language_info": {
   "codemirror_mode": {
    "name": "ipython",
    "version": 3
   },
   "file_extension": ".py",
   "mimetype": "text/x-python",
   "name": "python",
   "nbconvert_exporter": "python",
   "pygments_lexer": "ipython3",
   "version": "3.9.7"
  }
 },
 "nbformat": 4,
 "nbformat_minor": 5
}
