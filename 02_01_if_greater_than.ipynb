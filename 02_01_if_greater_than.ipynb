{
 "cells": [
  {
   "cell_type": "code",
   "execution_count": 4,
   "id": "d06c6af6",
   "metadata": {},
   "outputs": [
    {
     "name": "stdout",
     "output_type": "stream",
     "text": [
      "please enter a number: 5\n",
      "please enter another number!: 2\n",
      "The first number is greater than the second number\n"
     ]
    }
   ],
   "source": [
    "# Exercise\n",
    "\n",
    "# Write a program by accepting 2 numbers from the user and check number is greater than other and print the result\n",
    "# you can use the function `input()` to get user input\n",
    "\n",
    "# example\n",
    "\n",
    "\n",
    "## note, what type is your first_number? Is it what you expected?\n",
    "## look-up the input() documentation to find out what type it will create by default\n",
    "\n",
    "first_number = input(\"please enter a number: \")\n",
    "second_number = input(\"please enter another number!: \")\n",
    "\n",
    "if first_number>second_number:\n",
    "    print(\"The first number is greater than the second number\")\n",
    "else:\n",
    "    print(\"The second number is greater\")\n",
    "\n"
   ]
  },
  {
   "cell_type": "code",
   "execution_count": null,
   "id": "ef54c9c9",
   "metadata": {},
   "outputs": [],
   "source": []
  },
  {
   "cell_type": "code",
   "execution_count": null,
   "id": "63308290",
   "metadata": {},
   "outputs": [],
   "source": []
  },
  {
   "cell_type": "code",
   "execution_count": null,
   "id": "b681f2b4",
   "metadata": {},
   "outputs": [],
   "source": []
  }
 ],
 "metadata": {
  "kernelspec": {
   "display_name": "Python 3 (ipykernel)",
   "language": "python",
   "name": "python3"
  },
  "language_info": {
   "codemirror_mode": {
    "name": "ipython",
    "version": 3
   },
   "file_extension": ".py",
   "mimetype": "text/x-python",
   "name": "python",
   "nbconvert_exporter": "python",
   "pygments_lexer": "ipython3",
   "version": "3.9.7"
  }
 },
 "nbformat": 4,
 "nbformat_minor": 5
}
