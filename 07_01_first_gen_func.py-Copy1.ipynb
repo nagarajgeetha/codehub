{
 "cells": [
  {
   "cell_type": "code",
   "execution_count": 6,
   "id": "409eb9aa",
   "metadata": {},
   "outputs": [
    {
     "name": "stdout",
     "output_type": "stream",
     "text": [
      "2\n",
      "4\n",
      "6\n",
      "8\n",
      "10\n"
     ]
    }
   ],
   "source": [
    "## Write a generator that will produce a list of even numbers\n",
    "\n",
    "# use a function\n",
    "\n",
    "\n",
    "\n",
    "\"\"\"\n",
    "    input:\n",
    "        start: int\n",
    "        stop: int\n",
    "    returns:\n",
    "        generator object\n",
    "\n",
    "    Your function should create a generator object that will\n",
    "    be the sequence of even numbers from start to stop\n",
    "    Make sure to use the yield keyword!\n",
    "\"\"\"\n",
    "\n",
    "\n",
    "# use your generator\n",
    "#for i in list_of_even_nums(2, 11):\n",
    "#print(i)\n",
    "#should print out 2,4,6,8,10\n",
    "\n",
    "def list_of_even_nums(start, stop):\n",
    "    for i in range(2,11,2):\n",
    "        #yield i\n",
    "        print(i)\n",
    "        \n",
    "list_of_even_nums(2,12)   "
   ]
  },
  {
   "cell_type": "code",
   "execution_count": null,
   "id": "727e8990",
   "metadata": {},
   "outputs": [],
   "source": []
  }
 ],
 "metadata": {
  "kernelspec": {
   "display_name": "Python 3 (ipykernel)",
   "language": "python",
   "name": "python3"
  },
  "language_info": {
   "codemirror_mode": {
    "name": "ipython",
    "version": 3
   },
   "file_extension": ".py",
   "mimetype": "text/x-python",
   "name": "python",
   "nbconvert_exporter": "python",
   "pygments_lexer": "ipython3",
   "version": "3.9.7"
  }
 },
 "nbformat": 4,
 "nbformat_minor": 5
}
