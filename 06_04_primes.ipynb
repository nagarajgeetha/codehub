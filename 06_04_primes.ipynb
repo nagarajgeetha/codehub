{
 "cells": [
  {
   "cell_type": "markdown",
   "id": "7c08772a",
   "metadata": {},
   "source": [
    "# Exercise\n",
    "\n",
    "# Write a python program to print all prime numbers between 0 to 100 , and print how many prime numbers are there\n",
    "\n",
    "\n",
    "\n",
    "\n",
    "for i in range(1,100):\n",
    "    if (i%1==0):\n",
    "        print(i)\n",
    "    "
   ]
  },
  {
   "cell_type": "code",
   "execution_count": null,
   "id": "20988273",
   "metadata": {},
   "outputs": [],
   "source": []
  },
  {
   "cell_type": "code",
   "execution_count": null,
   "id": "431d09d5",
   "metadata": {},
   "outputs": [],
   "source": []
  }
 ],
 "metadata": {
  "kernelspec": {
   "display_name": "Python 3 (ipykernel)",
   "language": "python",
   "name": "python3"
  },
  "language_info": {
   "codemirror_mode": {
    "name": "ipython",
    "version": 3
   },
   "file_extension": ".py",
   "mimetype": "text/x-python",
   "name": "python",
   "nbconvert_exporter": "python",
   "pygments_lexer": "ipython3",
   "version": "3.9.7"
  }
 },
 "nbformat": 4,
 "nbformat_minor": 5
}
