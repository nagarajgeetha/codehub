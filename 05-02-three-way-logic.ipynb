{
 "cells": [
  {
   "cell_type": "code",
   "execution_count": null,
   "id": "95042a71",
   "metadata": {},
   "outputs": [],
   "source": [
    "# Logical_operators_4\n",
    "\n",
    "# Initialize variable a to true, b to false and c to true\n",
    "a = True\n",
    "b = False\n",
    "c = True\n",
    "\n",
    "# Print the value of:\n",
    "# what do you think: print(a and b or c)  will return? Why?\n",
    "# Does the order of operations matter?\n",
    "# is print(a or b and c) different?\n",
    "\n",
    "# Assign c to false and print the value of a and b or c\n",
    "a = True\n",
    "b = False\n",
    "c = False\n",
    "\n",
    "# Understand the difference in each scenario\n",
    "# what is happening here?\n",
    "\n",
    "# now try to use some ()'s to force python to evaluate it differently."
   ]
  },
  {
   "cell_type": "raw",
   "id": "b9fb36ec",
   "metadata": {},
   "source": []
  },
  {
   "cell_type": "code",
   "execution_count": 1,
   "id": "72d1a4da",
   "metadata": {},
   "outputs": [
    {
     "name": "stdout",
     "output_type": "stream",
     "text": [
      "True\n"
     ]
    }
   ],
   "source": [
    "a=True\n",
    "b=False\n",
    "c=True\n",
    "print(a and b or c)\n",
    "# The order of operator precedence matters. It is from highest to lowest. not,and, and or\n",
    "#print(a or b and c is not different)"
   ]
  },
  {
   "cell_type": "code",
   "execution_count": 2,
   "id": "5dac00c8",
   "metadata": {},
   "outputs": [
    {
     "name": "stdout",
     "output_type": "stream",
     "text": [
      "True\n"
     ]
    }
   ],
   "source": [
    "a=True\n",
    "b=False\n",
    "c=True\n",
    "print(a and b or c)"
   ]
  },
  {
   "cell_type": "code",
   "execution_count": null,
   "id": "aea552eb",
   "metadata": {},
   "outputs": [],
   "source": []
  }
 ],
 "metadata": {
  "kernelspec": {
   "display_name": "Python 3 (ipykernel)",
   "language": "python",
   "name": "python3"
  },
  "language_info": {
   "codemirror_mode": {
    "name": "ipython",
    "version": 3
   },
   "file_extension": ".py",
   "mimetype": "text/x-python",
   "name": "python",
   "nbconvert_exporter": "python",
   "pygments_lexer": "ipython3",
   "version": "3.9.7"
  }
 },
 "nbformat": 4,
 "nbformat_minor": 5
}
