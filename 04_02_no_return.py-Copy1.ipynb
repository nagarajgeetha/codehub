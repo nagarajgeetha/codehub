{
 "cells": [
  {
   "cell_type": "code",
   "execution_count": 4,
   "id": "31990530",
   "metadata": {},
   "outputs": [
    {
     "name": "stdout",
     "output_type": "stream",
     "text": [
      "GITA\n",
      "<class 'str'>\n"
     ]
    }
   ],
   "source": [
    "# write a function that does not return any variable!\n",
    "\n",
    "\n",
    "\"\"\"\n",
    "    input: str (a name)\n",
    "    output: None # no return!\n",
    "\n",
    "    This function Prints out the users name in all uppercase\n",
    "\"\"\"\n",
    "\n",
    "\n",
    "# What happens when you run your function and attempt to return a variable?\n",
    "#a = print_your_name_UPPER(\"lower case name\")\n",
    "# what is a?\n",
    "\n",
    "def name_UPPER(name):\n",
    "    \n",
    "    c=name.upper()\n",
    "    return c\n",
    "\n",
    "convert_name=name_UPPER(\"gita\")\n",
    "\n",
    "print(convert_name)\n",
    "print(type(convert_name))\n",
    "\n",
    "\n",
    "    "
   ]
  },
  {
   "cell_type": "code",
   "execution_count": null,
   "id": "31ce0e7c",
   "metadata": {},
   "outputs": [],
   "source": []
  }
 ],
 "metadata": {
  "kernelspec": {
   "display_name": "Python 3 (ipykernel)",
   "language": "python",
   "name": "python3"
  },
  "language_info": {
   "codemirror_mode": {
    "name": "ipython",
    "version": 3
   },
   "file_extension": ".py",
   "mimetype": "text/x-python",
   "name": "python",
   "nbconvert_exporter": "python",
   "pygments_lexer": "ipython3",
   "version": "3.9.7"
  }
 },
 "nbformat": 4,
 "nbformat_minor": 5
}
