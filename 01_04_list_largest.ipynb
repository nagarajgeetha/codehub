{
 "cells": [
  {
   "cell_type": "code",
   "execution_count": 22,
   "id": "846c3bdf",
   "metadata": {},
   "outputs": [
    {
     "name": "stdout",
     "output_type": "stream",
     "text": [
      "The greatest number in the list is  123123\n"
     ]
    }
   ],
   "source": [
    "# Exercise\n",
    "\n",
    "# Write a program to find the largest number in a list without using built-in functions\n",
    "\n",
    "# [1,2,1,3,123123,2,1,3,6,3,1,23,6,123,1235,]\n",
    "# output = 123123\n",
    "\n",
    "# use a for loop\n",
    "\n",
    "sample_list= [1,2,1,3,123123,2,1,3,6,3,1,23,6,123,1235,]\n",
    "\n",
    "\n",
    "max=0\n",
    "\n",
    "for i in sample_list:\n",
    "    if i>max:\n",
    "        max=i\n",
    "        \n",
    "print(\"The greatest number in the list is \",max)\n",
    "\n",
    "    \n",
    "    \n",
    "        "
   ]
  },
  {
   "cell_type": "code",
   "execution_count": null,
   "id": "80860acc",
   "metadata": {},
   "outputs": [],
   "source": []
  },
  {
   "cell_type": "code",
   "execution_count": null,
   "id": "4e1738ca",
   "metadata": {},
   "outputs": [],
   "source": []
  }
 ],
 "metadata": {
  "kernelspec": {
   "display_name": "Python 3 (ipykernel)",
   "language": "python",
   "name": "python3"
  },
  "language_info": {
   "codemirror_mode": {
    "name": "ipython",
    "version": 3
   },
   "file_extension": ".py",
   "mimetype": "text/x-python",
   "name": "python",
   "nbconvert_exporter": "python",
   "pygments_lexer": "ipython3",
   "version": "3.9.7"
  }
 },
 "nbformat": 4,
 "nbformat_minor": 5
}
