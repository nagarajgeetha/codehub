{
 "cells": [
  {
   "cell_type": "code",
   "execution_count": 33,
   "id": "f9890ff8",
   "metadata": {},
   "outputs": [
    {
     "name": "stdout",
     "output_type": "stream",
     "text": [
      "0\n",
      "1\n"
     ]
    }
   ],
   "source": [
    "# wrtie a recursive fibonacci function\n",
    "\n",
    "\n",
    "\n",
    "\"\"\"\n",
    "    input: \n",
    "        n: int\n",
    "\n",
    "    return:\n",
    "        fibbonacci number for n\n",
    "\"\"\"\n",
    "\n",
    "\n",
    "# fib(6) should return 5\n",
    "# fib(10) should return 34\n",
    "\n",
    "\n",
    "def fib(n):\n",
    "    \n",
    "    a=0\n",
    "    b=1\n",
    "   \n",
    "    if n==1:\n",
    "        print(a)\n",
    "        print(b)\n",
    "    else:\n",
    "        for i in range(2,n):\n",
    "            c=a+b\n",
    "            a=b\n",
    "            b=c\n",
    "        print(f\"The fibanocci number for {n}  is {c}\")\n",
    "        \n",
    "fib(1)\n",
    "   \n"
   ]
  },
  {
   "cell_type": "code",
   "execution_count": null,
   "id": "eef9ba0c",
   "metadata": {},
   "outputs": [],
   "source": []
  }
 ],
 "metadata": {
  "kernelspec": {
   "display_name": "Python 3 (ipykernel)",
   "language": "python",
   "name": "python3"
  },
  "language_info": {
   "codemirror_mode": {
    "name": "ipython",
    "version": 3
   },
   "file_extension": ".py",
   "mimetype": "text/x-python",
   "name": "python",
   "nbconvert_exporter": "python",
   "pygments_lexer": "ipython3",
   "version": "3.9.7"
  }
 },
 "nbformat": 4,
 "nbformat_minor": 5
}
