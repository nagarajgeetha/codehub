{
 "cells": [
  {
   "cell_type": "code",
   "execution_count": 1,
   "id": "f69dfe2e",
   "metadata": {},
   "outputs": [
    {
     "name": "stdout",
     "output_type": "stream",
     "text": [
      "The type of a is  <class 'int'>\n"
     ]
    }
   ],
   "source": [
    "a=7\n",
    "print(\"The type of a is \",type(a))"
   ]
  },
  {
   "cell_type": "code",
   "execution_count": 3,
   "id": "154824e5",
   "metadata": {},
   "outputs": [
    {
     "name": "stdout",
     "output_type": "stream",
     "text": [
      "The type of myfloat= <class 'float'>\n"
     ]
    }
   ],
   "source": [
    "myfloat=float(a)\n",
    "print(\"The type of myfloat=\",type(myfloat))"
   ]
  },
  {
   "cell_type": "code",
   "execution_count": 4,
   "id": "1dc67ebb",
   "metadata": {},
   "outputs": [
    {
     "name": "stdout",
     "output_type": "stream",
     "text": [
      "The type of mystr= <class 'str'>\n"
     ]
    }
   ],
   "source": [
    "mystr=str(myfloat)\n",
    "print(\"The type of mystr=\",type(mystr))"
   ]
  },
  {
   "cell_type": "code",
   "execution_count": 5,
   "id": "c55ee040",
   "metadata": {},
   "outputs": [
    {
     "ename": "ValueError",
     "evalue": "invalid literal for int() with base 10: '7.0'",
     "output_type": "error",
     "traceback": [
      "\u001b[1;31m---------------------------------------------------------------------------\u001b[0m",
      "\u001b[1;31mValueError\u001b[0m                                Traceback (most recent call last)",
      "\u001b[1;32m~\\AppData\\Local\\Temp/ipykernel_4184/969502032.py\u001b[0m in \u001b[0;36m<module>\u001b[1;34m\u001b[0m\n\u001b[1;32m----> 1\u001b[1;33m \u001b[0mmyint\u001b[0m\u001b[1;33m=\u001b[0m\u001b[0mint\u001b[0m\u001b[1;33m(\u001b[0m\u001b[0mmystr\u001b[0m\u001b[1;33m)\u001b[0m\u001b[1;33m\u001b[0m\u001b[1;33m\u001b[0m\u001b[0m\n\u001b[0m\u001b[0;32m      2\u001b[0m \u001b[0mprint\u001b[0m\u001b[1;33m(\u001b[0m\u001b[0mtype\u001b[0m\u001b[1;33m(\u001b[0m\u001b[0mmyint\u001b[0m\u001b[1;33m)\u001b[0m\u001b[1;33m)\u001b[0m\u001b[1;33m\u001b[0m\u001b[1;33m\u001b[0m\u001b[0m\n",
      "\u001b[1;31mValueError\u001b[0m: invalid literal for int() with base 10: '7.0'"
     ]
    }
   ],
   "source": [
    "myint=int(mystr)\n",
    "print(type(myint))"
   ]
  },
  {
   "cell_type": "code",
   "execution_count": null,
   "id": "1d3c1b28",
   "metadata": {},
   "outputs": [],
   "source": []
  }
 ],
 "metadata": {
  "kernelspec": {
   "display_name": "Python 3 (ipykernel)",
   "language": "python",
   "name": "python3"
  },
  "language_info": {
   "codemirror_mode": {
    "name": "ipython",
    "version": 3
   },
   "file_extension": ".py",
   "mimetype": "text/x-python",
   "name": "python",
   "nbconvert_exporter": "python",
   "pygments_lexer": "ipython3",
   "version": "3.9.7"
  }
 },
 "nbformat": 4,
 "nbformat_minor": 5
}
