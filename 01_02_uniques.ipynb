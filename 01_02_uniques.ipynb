{
 "cells": [
  {
   "cell_type": "code",
   "execution_count": 11,
   "id": "28c95ff6",
   "metadata": {},
   "outputs": [
    {
     "name": "stdout",
     "output_type": "stream",
     "text": [
      "{1, 2, 4, 6, 13, 55, 'hi'}\n"
     ]
    }
   ],
   "source": [
    "# Write code that creates a list of all unique values in a list.\n",
    "# For example:\n",
    "#\n",
    "# list_ = [1, 2, 6, 55, 2, 'hi', 4, 6, 1, 13]\n",
    "# unique_list = [1, 2, 6, 55, 'hi', 4, 13,]\n",
    "\n",
    "My_list=[1, 2, 6, 55, 2, 'hi', 4, 6, 1, 13]\n",
    "\n",
    "# do a type cast\n",
    "unique_list =set(My_list)\n",
    "    \n",
    "print(unique_list)"
   ]
  },
  {
   "cell_type": "code",
   "execution_count": null,
   "id": "a86b5776",
   "metadata": {},
   "outputs": [],
   "source": []
  }
 ],
 "metadata": {
  "kernelspec": {
   "display_name": "Python 3 (ipykernel)",
   "language": "python",
   "name": "python3"
  },
  "language_info": {
   "codemirror_mode": {
    "name": "ipython",
    "version": 3
   },
   "file_extension": ".py",
   "mimetype": "text/x-python",
   "name": "python",
   "nbconvert_exporter": "python",
   "pygments_lexer": "ipython3",
   "version": "3.9.7"
  }
 },
 "nbformat": 4,
 "nbformat_minor": 5
}
