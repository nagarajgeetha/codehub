{
 "cells": [
  {
   "cell_type": "code",
   "execution_count": 9,
   "id": "aca3bfbe",
   "metadata": {},
   "outputs": [
    {
     "name": "stdout",
     "output_type": "stream",
     "text": [
      "n4 is greater\n"
     ]
    }
   ],
   "source": [
    "# Exercise\n",
    "\n",
    "n1 = 10\n",
    "n2 = 2\n",
    "n3 = 101\n",
    "n4 = 123897\n",
    "\n",
    "# Use if / else statement to find the largest number.\n",
    "\n",
    "if n1>n2 and n1>n3 and n1>n4:\n",
    "    print(\"n1 is greater\")\n",
    "elif n2>n1 and n2>n1 and n2>n4:\n",
    "    print(\"n2 is greater\")\n",
    "elif n3>n1 and n3>n2 and n3>n4:\n",
    "    print(\"n3 is greater\")\n",
    "else:\n",
    "     print(\"n4 is greater\")\n",
    "    \n",
    "\n",
    "\n",
    "\n"
   ]
  },
  {
   "cell_type": "code",
   "execution_count": null,
   "id": "726afad3",
   "metadata": {},
   "outputs": [],
   "source": []
  }
 ],
 "metadata": {
  "kernelspec": {
   "display_name": "Python 3 (ipykernel)",
   "language": "python",
   "name": "python3"
  },
  "language_info": {
   "codemirror_mode": {
    "name": "ipython",
    "version": 3
   },
   "file_extension": ".py",
   "mimetype": "text/x-python",
   "name": "python",
   "nbconvert_exporter": "python",
   "pygments_lexer": "ipython3",
   "version": "3.9.7"
  }
 },
 "nbformat": 4,
 "nbformat_minor": 5
}
