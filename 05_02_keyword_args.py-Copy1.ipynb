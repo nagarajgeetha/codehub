{
 "cells": [
  {
   "cell_type": "code",
   "execution_count": 4,
   "id": "29e08293",
   "metadata": {},
   "outputs": [
    {
     "data": {
      "text/plain": [
       "12"
      ]
     },
     "execution_count": 4,
     "metadata": {},
     "output_type": "execute_result"
    }
   ],
   "source": [
    "## Write a function with keyword arguments\n",
    "## your function can be a mix of positional and keyword arguments\n",
    "## it must use a default value for the keyword argument.\n",
    "\n",
    "\"\"\"\n",
    "def square():\n",
    "   \n",
    "    Input:\n",
    "        length: int\n",
    "        width: int, defaults to 10\n",
    "\n",
    "    \n",
    "    Returns:\n",
    "        the area of the square\n",
    "\"\"\"\n",
    "\n",
    "def rect(l=4,b=4):\n",
    "    area_rect=l*b\n",
    "    return area_rect\n",
    "\n",
    "#rect(3,4)\n",
    "#rect()\n",
    "rect(3)\n",
    "\n",
    "\n"
   ]
  },
  {
   "cell_type": "code",
   "execution_count": null,
   "id": "69ef56b0",
   "metadata": {},
   "outputs": [],
   "source": []
  }
 ],
 "metadata": {
  "kernelspec": {
   "display_name": "Python 3 (ipykernel)",
   "language": "python",
   "name": "python3"
  },
  "language_info": {
   "codemirror_mode": {
    "name": "ipython",
    "version": 3
   },
   "file_extension": ".py",
   "mimetype": "text/x-python",
   "name": "python",
   "nbconvert_exporter": "python",
   "pygments_lexer": "ipython3",
   "version": "3.9.7"
  }
 },
 "nbformat": 4,
 "nbformat_minor": 5
}
