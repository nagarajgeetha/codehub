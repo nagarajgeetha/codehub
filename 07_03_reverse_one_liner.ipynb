{
 "cells": [
  {
   "cell_type": "code",
   "execution_count": null,
   "id": "088d10d9",
   "metadata": {},
   "outputs": [],
   "source": [
    "# Reverse the string given below in a single line of code\n",
    "# with the help of string slicing.\n",
    "\n",
    "palindrome = \"too bad i hid a boot\""
   ]
  },
  {
   "cell_type": "code",
   "execution_count": 5,
   "id": "a0720e92",
   "metadata": {},
   "outputs": [
    {
     "name": "stdout",
     "output_type": "stream",
     "text": [
      "toob a dih i dab oot\n"
     ]
    }
   ],
   "source": [
    "palindrome=\"too bad i hid a boot\"\n",
    "rev_palindrome=palindrome[::-1]\n",
    "print(rev_palindrome)"
   ]
  },
  {
   "cell_type": "code",
   "execution_count": null,
   "id": "310782c7",
   "metadata": {},
   "outputs": [],
   "source": []
  }
 ],
 "metadata": {
  "kernelspec": {
   "display_name": "Python 3 (ipykernel)",
   "language": "python",
   "name": "python3"
  },
  "language_info": {
   "codemirror_mode": {
    "name": "ipython",
    "version": 3
   },
   "file_extension": ".py",
   "mimetype": "text/x-python",
   "name": "python",
   "nbconvert_exporter": "python",
   "pygments_lexer": "ipython3",
   "version": "3.9.7"
  }
 },
 "nbformat": 4,
 "nbformat_minor": 5
}
