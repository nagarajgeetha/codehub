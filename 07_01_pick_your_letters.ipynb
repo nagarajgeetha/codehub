{
 "cells": [
  {
   "cell_type": "code",
   "execution_count": null,
   "id": "08042adf",
   "metadata": {},
   "outputs": [],
   "source": [
    "# Use string indexing and string concatenation (or f-strings)\n",
    "# to write the sentence \"we see trees\" only by picking\n",
    "# the necessary letters from the given string.\n",
    "\n",
    "word = \"tweezers \""
   ]
  },
  {
   "cell_type": "code",
   "execution_count": 23,
   "id": "2510c46d",
   "metadata": {},
   "outputs": [],
   "source": [
    "word=\"tweezers\"\n",
    "str1=word[1:3]\n",
    "\n"
   ]
  },
  {
   "cell_type": "code",
   "execution_count": 17,
   "id": "a772798f",
   "metadata": {},
   "outputs": [],
   "source": [
    "str2=word[-1]\n"
   ]
  },
  {
   "cell_type": "code",
   "execution_count": 16,
   "id": "a7e50e0e",
   "metadata": {},
   "outputs": [],
   "source": [
    "str3=word[2:4]"
   ]
  },
  {
   "cell_type": "code",
   "execution_count": 18,
   "id": "64967d8f",
   "metadata": {},
   "outputs": [],
   "source": [
    "str4=word[0]"
   ]
  },
  {
   "cell_type": "code",
   "execution_count": 19,
   "id": "a561d5d1",
   "metadata": {},
   "outputs": [],
   "source": [
    "str5=word[-2]"
   ]
  },
  {
   "cell_type": "code",
   "execution_count": 20,
   "id": "d88fa127",
   "metadata": {},
   "outputs": [],
   "source": [
    "str6=word[2:4]"
   ]
  },
  {
   "cell_type": "code",
   "execution_count": 21,
   "id": "e63d0355",
   "metadata": {},
   "outputs": [],
   "source": [
    "str7=word[-1]"
   ]
  },
  {
   "cell_type": "code",
   "execution_count": 27,
   "id": "e495b257",
   "metadata": {},
   "outputs": [
    {
     "name": "stdout",
     "output_type": "stream",
     "text": [
      "we see trees\n"
     ]
    }
   ],
   "source": [
    "res=str1+\" \"+str2+str3+\" \"+str4+str5+str6+str7\n",
    "print(res)"
   ]
  },
  {
   "cell_type": "code",
   "execution_count": null,
   "id": "049fc399",
   "metadata": {},
   "outputs": [],
   "source": []
  }
 ],
 "metadata": {
  "kernelspec": {
   "display_name": "Python 3 (ipykernel)",
   "language": "python",
   "name": "python3"
  },
  "language_info": {
   "codemirror_mode": {
    "name": "ipython",
    "version": 3
   },
   "file_extension": ".py",
   "mimetype": "text/x-python",
   "name": "python",
   "nbconvert_exporter": "python",
   "pygments_lexer": "ipython3",
   "version": "3.9.7"
  }
 },
 "nbformat": 4,
 "nbformat_minor": 5
}
