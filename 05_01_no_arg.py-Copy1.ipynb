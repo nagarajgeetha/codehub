{
 "cells": [
  {
   "cell_type": "code",
   "execution_count": 1,
   "id": "33a4e304",
   "metadata": {},
   "outputs": [
    {
     "name": "stdout",
     "output_type": "stream",
     "text": [
      "11\n"
     ]
    }
   ],
   "source": [
    "# write a function that takes no arguments\n",
    "\n",
    "\n",
    "\n",
    "\"\"\"\n",
    "    Do something here!\n",
    "    ideas: use a global\n",
    "    Idea: just print something out\n",
    "\"\"\"\n",
    "\n",
    "\n",
    "# call your function down here\n",
    "\n",
    "a=3\n",
    "b=8\n",
    "\n",
    "def no_args():\n",
    "    \n",
    "    print(a+b)\n",
    "    \n",
    "no_args()\n",
    "    \n"
   ]
  },
  {
   "cell_type": "code",
   "execution_count": null,
   "id": "fe62b870",
   "metadata": {},
   "outputs": [],
   "source": []
  },
  {
   "cell_type": "code",
   "execution_count": null,
   "id": "c999a85e",
   "metadata": {},
   "outputs": [],
   "source": []
  }
 ],
 "metadata": {
  "kernelspec": {
   "display_name": "Python 3 (ipykernel)",
   "language": "python",
   "name": "python3"
  },
  "language_info": {
   "codemirror_mode": {
    "name": "ipython",
    "version": 3
   },
   "file_extension": ".py",
   "mimetype": "text/x-python",
   "name": "python",
   "nbconvert_exporter": "python",
   "pygments_lexer": "ipython3",
   "version": "3.9.7"
  }
 },
 "nbformat": 4,
 "nbformat_minor": 5
}
