{
 "cells": [
  {
   "cell_type": "code",
   "execution_count": 20,
   "id": "40b705a5",
   "metadata": {},
   "outputs": [
    {
     "name": "stdout",
     "output_type": "stream",
     "text": [
      "aba\n",
      "1221\n",
      "The no of words which has length equal to 2 or more is 2\n"
     ]
    }
   ],
   "source": [
    "# Exercise\n",
    "\n",
    "# stage 1\n",
    "# Write a program to count the number of strings where the string length is 2 or more\n",
    "# sample list: ['aaaa', 'a', 'ab', 'abc', ]\n",
    "# result : 3\n",
    "\n",
    "\n",
    "\n",
    "sample_list=['abc', 'xyz', 'aba', '1221']\n",
    "total_str_count=len(sample_list)\n",
    "\n",
    "#print(total_str_count)\n",
    "\n",
    "\n",
    "## Stage 2\n",
    "# Now count the number of strings that have length 2 or more\n",
    "# AND the first and last character are same from a given list of strings.\n",
    "\n",
    "# Sample List : ['abc', 'xyz', 'aba', '1221']\n",
    "# Expected Result : 2\n",
    "counter=0\n",
    "for i in sample_list:\n",
    "    \n",
    "    #print(len(i))\n",
    "    \n",
    "    if len(i)>=2 and i[0]==i[-1]:\n",
    "        \n",
    "        counter+=1        \n",
    "        print(i)\n",
    "print(\"The no of words which has length equal to 2 or more is\", counter)\n",
    "        \n",
    "        \n",
    "    \n",
    "        \n",
    "    \n",
    "   \n",
    "\n"
   ]
  },
  {
   "cell_type": "code",
   "execution_count": null,
   "id": "08699dbb",
   "metadata": {},
   "outputs": [],
   "source": []
  },
  {
   "cell_type": "code",
   "execution_count": null,
   "id": "8cf03021",
   "metadata": {},
   "outputs": [],
   "source": []
  }
 ],
 "metadata": {
  "kernelspec": {
   "display_name": "Python 3 (ipykernel)",
   "language": "python",
   "name": "python3"
  },
  "language_info": {
   "codemirror_mode": {
    "name": "ipython",
    "version": 3
   },
   "file_extension": ".py",
   "mimetype": "text/x-python",
   "name": "python",
   "nbconvert_exporter": "python",
   "pygments_lexer": "ipython3",
   "version": "3.9.7"
  }
 },
 "nbformat": 4,
 "nbformat_minor": 5
}
