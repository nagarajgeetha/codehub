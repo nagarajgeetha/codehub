{
 "cells": [
  {
   "cell_type": "code",
   "execution_count": null,
   "id": "cf427a3b",
   "metadata": {},
   "outputs": [],
   "source": [
    "# Run some basic comparisons on basic integers and floating points\n",
    "\n",
    "# what is bigger, a or b?\n",
    "a = 2\n",
    "b = 10\n",
    "\n",
    "# What is smaller , c or d?\n",
    "c = 2.02\n",
    "d = 2.01119999\n",
    "\n",
    "# what is bigger e or f?\n",
    "e = float(\"inf\")\n",
    "f = 12912912912091928312903713582043754302895723048957\n",
    "\n",
    "# are these equal?\n",
    "\n",
    "g = 1.02020202020\n",
    "i = 1.0202020202011111\n"
   ]
  },
  {
   "cell_type": "code",
   "execution_count": 1,
   "id": "a66b7cc6",
   "metadata": {},
   "outputs": [
    {
     "name": "stdout",
     "output_type": "stream",
     "text": [
      "False\n"
     ]
    }
   ],
   "source": [
    "a=2\n",
    "b=10\n",
    "print(a>b)"
   ]
  },
  {
   "cell_type": "code",
   "execution_count": 2,
   "id": "0e54a8f1",
   "metadata": {},
   "outputs": [
    {
     "name": "stdout",
     "output_type": "stream",
     "text": [
      "True\n"
     ]
    }
   ],
   "source": [
    "print(a<b)"
   ]
  },
  {
   "cell_type": "code",
   "execution_count": 3,
   "id": "5ee33959",
   "metadata": {},
   "outputs": [
    {
     "name": "stdout",
     "output_type": "stream",
     "text": [
      "False\n"
     ]
    }
   ],
   "source": [
    "print(a==b)"
   ]
  },
  {
   "cell_type": "code",
   "execution_count": 4,
   "id": "436951de",
   "metadata": {},
   "outputs": [
    {
     "name": "stdout",
     "output_type": "stream",
     "text": [
      "False\n",
      "True\n"
     ]
    }
   ],
   "source": [
    "c = 2.02\n",
    "d = 2.01119999\n",
    "print(c<d)\n",
    "print(c>d)"
   ]
  },
  {
   "cell_type": "code",
   "execution_count": 5,
   "id": "53dac572",
   "metadata": {},
   "outputs": [
    {
     "name": "stdout",
     "output_type": "stream",
     "text": [
      "False\n"
     ]
    }
   ],
   "source": [
    "g = 1.02020202020\n",
    "i = 1.0202020202011111\n",
    "print(g==i)"
   ]
  },
  {
   "cell_type": "code",
   "execution_count": null,
   "id": "378a2f5c",
   "metadata": {},
   "outputs": [],
   "source": []
  }
 ],
 "metadata": {
  "kernelspec": {
   "display_name": "Python 3 (ipykernel)",
   "language": "python",
   "name": "python3"
  },
  "language_info": {
   "codemirror_mode": {
    "name": "ipython",
    "version": 3
   },
   "file_extension": ".py",
   "mimetype": "text/x-python",
   "name": "python",
   "nbconvert_exporter": "python",
   "pygments_lexer": "ipython3",
   "version": "3.9.7"
  }
 },
 "nbformat": 4,
 "nbformat_minor": 5
}
