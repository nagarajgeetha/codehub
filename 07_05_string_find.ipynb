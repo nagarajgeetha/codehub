{
 "cells": [
  {
   "cell_type": "code",
   "execution_count": 10,
   "id": "ae90befd",
   "metadata": {},
   "outputs": [
    {
     "name": "stdout",
     "output_type": "stream",
     "text": [
      "The index of the first occurence of the letter n is   9\n"
     ]
    }
   ],
   "source": [
    "# Find the index of the first occurrence of the letter `n` in the string.\n",
    "composer = \"Ludvig van Beethoven\"\n",
    "index = composer.find('n')\n",
    "print(\"The index of the first occurence of the letter n is  \",index)"
   ]
  },
  {
   "cell_type": "code",
   "execution_count": null,
   "id": "4b48e17b",
   "metadata": {},
   "outputs": [],
   "source": []
  }
 ],
 "metadata": {
  "kernelspec": {
   "display_name": "Python 3 (ipykernel)",
   "language": "python",
   "name": "python3"
  },
  "language_info": {
   "codemirror_mode": {
    "name": "ipython",
    "version": 3
   },
   "file_extension": ".py",
   "mimetype": "text/x-python",
   "name": "python",
   "nbconvert_exporter": "python",
   "pygments_lexer": "ipython3",
   "version": "3.9.7"
  }
 },
 "nbformat": 4,
 "nbformat_minor": 5
}
