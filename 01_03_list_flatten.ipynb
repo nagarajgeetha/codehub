{
 "cells": [
  {
   "cell_type": "code",
   "execution_count": 47,
   "id": "e821c361",
   "metadata": {},
   "outputs": [
    {
     "name": "stdout",
     "output_type": "stream",
     "text": [
      "[2, 4, 3, 1, 5, 6, 9, 7, 9, 0]\n"
     ]
    }
   ],
   "source": [
    "#Exercise\n",
    "\n",
    "# Write a Python program to flatten a shallow list\n",
    "\n",
    "#Sample Input: [[2,4,3],[1,5,6], [9], [7,9,0]]\n",
    "#Output: [2, 4, 3, 1, 5, 6, 9, 7, 9, 0]\n",
    "sample_output=[]\n",
    "sample_list=[[2,4,3],[1,5,6], [9], [7,9,0]]\n",
    "for i in sample_list:\n",
    "        \n",
    "        for j in i:\n",
    "            sample_output.append(int(j))\n",
    "            \n",
    "            #print(j, end=\", \")\n",
    "print(sample_output)\n",
    "            "
   ]
  },
  {
   "cell_type": "code",
   "execution_count": null,
   "id": "44fc14d4",
   "metadata": {},
   "outputs": [],
   "source": []
  },
  {
   "cell_type": "code",
   "execution_count": null,
   "id": "578f0b73",
   "metadata": {},
   "outputs": [],
   "source": []
  }
 ],
 "metadata": {
  "kernelspec": {
   "display_name": "Python 3 (ipykernel)",
   "language": "python",
   "name": "python3"
  },
  "language_info": {
   "codemirror_mode": {
    "name": "ipython",
    "version": 3
   },
   "file_extension": ".py",
   "mimetype": "text/x-python",
   "name": "python",
   "nbconvert_exporter": "python",
   "pygments_lexer": "ipython3",
   "version": "3.9.7"
  }
 },
 "nbformat": 4,
 "nbformat_minor": 5
}
