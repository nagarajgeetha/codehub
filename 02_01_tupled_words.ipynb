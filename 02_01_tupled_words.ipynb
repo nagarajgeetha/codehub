{
 "cells": [
  {
   "cell_type": "code",
   "execution_count": 22,
   "id": "c0280df5",
   "metadata": {},
   "outputs": [
    {
     "name": "stdout",
     "output_type": "stream",
     "text": [
      "[('h', 'e', 'l', 'l', 'o'), ('w', 'o', 'r', 'l', 'd')]\n"
     ]
    }
   ],
   "source": [
    "# create a list that contains a tuple for each word.\n",
    "# For example:\n",
    "\n",
    "# input = \"hello world\"\n",
    "# result_list = [('h', 'e', 'l', 'l', 'o'), ('w', 'o', 'r', 'l', 'd')]\n",
    "empty_list=[]\n",
    "new_list=()\n",
    "sample_text=\"hello world\"\n",
    "\n",
    "res=sample_text.split()\n",
    "#print(res)\n",
    "\n",
    "\n",
    "\n",
    "for i in res:\n",
    "    \n",
    "    new_list=tuple(i)   \n",
    "   \n",
    "    empty_list.append(new_list)\n",
    "    # why didn't work when it was assinged to empty_list empty_list=empty_list.append(new_list)\n",
    "print(empty_list)\n",
    "    \n",
    "  \n",
    "   \n",
    "\n",
    "    \n",
    "\n",
    "\n",
    "\n",
    "\n",
    "\n",
    "\n",
    "    \n",
    "    \n",
    "   \n",
    "\n",
    "\n",
    "\n",
    "\n",
    "    \n",
    "    \n",
    "\n",
    "\n"
   ]
  },
  {
   "cell_type": "code",
   "execution_count": null,
   "id": "5abd919c",
   "metadata": {},
   "outputs": [],
   "source": []
  },
  {
   "cell_type": "code",
   "execution_count": null,
   "id": "65f27d02",
   "metadata": {},
   "outputs": [],
   "source": []
  },
  {
   "cell_type": "code",
   "execution_count": null,
   "id": "7f0ae3eb",
   "metadata": {},
   "outputs": [],
   "source": []
  }
 ],
 "metadata": {
  "kernelspec": {
   "display_name": "Python 3 (ipykernel)",
   "language": "python",
   "name": "python3"
  },
  "language_info": {
   "codemirror_mode": {
    "name": "ipython",
    "version": 3
   },
   "file_extension": ".py",
   "mimetype": "text/x-python",
   "name": "python",
   "nbconvert_exporter": "python",
   "pygments_lexer": "ipython3",
   "version": "3.9.7"
  }
 },
 "nbformat": 4,
 "nbformat_minor": 5
}
