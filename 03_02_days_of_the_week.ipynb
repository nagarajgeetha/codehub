{
 "cells": [
  {
   "cell_type": "code",
   "execution_count": 7,
   "id": "deac22e1",
   "metadata": {},
   "outputs": [
    {
     "name": "stdout",
     "output_type": "stream",
     "text": [
      "please enter your number between 0-79\n",
      "your number is out of range\n"
     ]
    }
   ],
   "source": [
    "#Exercise\n",
    "\n",
    "#Write a python program in which read an integer number less than 7 from user\n",
    "\n",
    "#If the input number is greater than  or equal to 7, then print error message\n",
    "\n",
    "#If the input is 0 print \"Sunday\"\n",
    "#If the input is 1 print \"Monday\"\n",
    "#If the input is 2 print \"Tuesday\"\n",
    "#If the input is 3 print \"Wednesday\"\n",
    "#If the input is 4 print \"Thrusday\"\n",
    "#If the input is 5 print \"Friday\"\n",
    "#If the input is 6 print \"Saturday\"\n",
    "\n",
    "#Use if-else statements\n",
    "\n",
    "user_number=int(input(\"please enter your number between 0-7\"))\n",
    "\n",
    "if user_number==0:\n",
    "    print(\"user input is \",user_number,\"Sunday\")\n",
    "elif user_number==1:\n",
    "    print(\"user input is \",user_number,\"Monday\")\n",
    "elif user_number==2:\n",
    "    print(\"user input is \",user_number,\"Tuesday\")\n",
    "elif user_number==3:\n",
    "    print(\"user input is \",user_number,\"Wednesday\")\n",
    "elif user_number==4:\n",
    "    print(\"user input is \",user_number,\"Thursday\")\n",
    "elif user_number==5:\n",
    "    print(\"user input is \",user_number,\"Friday\")\n",
    "elif user_number==6:\n",
    "    print(\"user input is \",user_number,\"Saturday\")\n",
    "else:\n",
    "    print(\"your number is out of range\")\n",
    "        \n",
    "    "
   ]
  },
  {
   "cell_type": "code",
   "execution_count": null,
   "id": "f4cb7e55",
   "metadata": {},
   "outputs": [],
   "source": []
  },
  {
   "cell_type": "code",
   "execution_count": null,
   "id": "4211a855",
   "metadata": {},
   "outputs": [],
   "source": []
  }
 ],
 "metadata": {
  "kernelspec": {
   "display_name": "Python 3 (ipykernel)",
   "language": "python",
   "name": "python3"
  },
  "language_info": {
   "codemirror_mode": {
    "name": "ipython",
    "version": 3
   },
   "file_extension": ".py",
   "mimetype": "text/x-python",
   "name": "python",
   "nbconvert_exporter": "python",
   "pygments_lexer": "ipython3",
   "version": "3.9.7"
  }
 },
 "nbformat": 4,
 "nbformat_minor": 5
}
