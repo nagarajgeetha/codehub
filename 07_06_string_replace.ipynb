{
 "cells": [
  {
   "cell_type": "code",
   "execution_count": 11,
   "id": "a79517a1",
   "metadata": {},
   "outputs": [
    {
     "name": "stdout",
     "output_type": "stream",
     "text": [
      "\"10\n",
      "-aggie and -illy and -olly and -ay\n",
      "went down to the beach(to play one day)\n",
      "and -aggie discovered a shell that sang\n",
      "so sweetly she couldn't re-e-ber her troubles,and\n",
      "-illy befriended a stranded star\n",
      "whose rays five languid fingers were;\n",
      "and -olly was chased by a horrible thing\n",
      "which raced sideways while blowing bubbles:and\n",
      "-ay ca-e ho-e with a s-ooth round stone\n",
      "as s-all as a world and as large as alone.\n",
      "For whatever we lose(like a you or a -e)\n",
      "it's always ourselves we find in the sea\n"
     ]
    }
   ],
   "source": [
    "# Replace all occurrences of the letter `m` with the symbol `_`.\n",
    "# For example:\n",
    "\n",
    "# text: more python programming please\n",
    "# symbol: #\n",
    "# result: #ore python progra##ing please\n",
    "\n",
    "poem = \"\"\"\"10\n",
    "maggie and milly and molly and may\n",
    "went down to the beach(to play one day)\n",
    "and maggie discovered a shell that sang\n",
    "so sweetly she couldn't remember her troubles,and\n",
    "milly befriended a stranded star\n",
    "whose rays five languid fingers were;\n",
    "and molly was chased by a horrible thing\n",
    "which raced sideways while blowing bubbles:and\n",
    "may came home with a smooth round stone\n",
    "as small as a world and as large as alone.\n",
    "For whatever we lose(like a you or a me)\n",
    "it's always ourselves we find in the sea\"\"\"\n",
    "\n",
    "# Write your code below here\n",
    "\n",
    "edited_poem=poem.replace('m','-')\n",
    "print(edited_poem)"
   ]
  },
  {
   "cell_type": "code",
   "execution_count": null,
   "id": "539e9cee",
   "metadata": {},
   "outputs": [],
   "source": []
  },
  {
   "cell_type": "code",
   "execution_count": null,
   "id": "8baefec8",
   "metadata": {},
   "outputs": [],
   "source": []
  },
  {
   "cell_type": "code",
   "execution_count": null,
   "id": "01e2851f",
   "metadata": {},
   "outputs": [],
   "source": []
  }
 ],
 "metadata": {
  "kernelspec": {
   "display_name": "Python 3 (ipykernel)",
   "language": "python",
   "name": "python3"
  },
  "language_info": {
   "codemirror_mode": {
    "name": "ipython",
    "version": 3
   },
   "file_extension": ".py",
   "mimetype": "text/x-python",
   "name": "python",
   "nbconvert_exporter": "python",
   "pygments_lexer": "ipython3",
   "version": "3.9.7"
  }
 },
 "nbformat": 4,
 "nbformat_minor": 5
}
