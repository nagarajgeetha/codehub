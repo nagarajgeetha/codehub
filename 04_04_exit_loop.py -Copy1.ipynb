{
 "cells": [
  {
   "cell_type": "code",
   "execution_count": 9,
   "id": "06dbfde8",
   "metadata": {},
   "outputs": [
    {
     "data": {
      "text/plain": [
       "6"
      ]
     },
     "execution_count": 9,
     "metadata": {},
     "output_type": "execute_result"
    }
   ],
   "source": [
    "# write a function that exits a for-loop with a return statement!\n",
    "\n",
    "# write a function that exits a for-loop with a return statement!\n",
    "\n",
    "\n",
    "\n",
    "\"\"\"\n",
    "    input:\n",
    "        list_of_nums: a list of numbers\n",
    "        n: an integer\n",
    "\n",
    "    Returns:\n",
    "        The first number in the list that is divisble by n\n",
    "\n",
    "    \n",
    "    Example input: [1,2,3,4,5], 3\n",
    "    output: 3\n",
    "    \n",
    "\"\"\"  \n",
    "\n",
    "    ## Use a for -loop to iterate over the input list\n",
    "    ## check if the number is divisble by n with modulo\n",
    "    ## if it is -- return the number immediately!\n",
    "    ## This will exit the for-loop!!!\n",
    "    \n",
    "\n",
    "def find_first_divisible(list_of_nums, n):\n",
    "    \n",
    "    \n",
    "    for i in list_of_nums:\n",
    "        if i%n==0:\n",
    "            return i\n",
    "            break\n",
    "        \n",
    "find_first_divisible([3,5,6,2,54,34,55],2)\n",
    "        "
   ]
  },
  {
   "cell_type": "code",
   "execution_count": null,
   "id": "edb2f70a",
   "metadata": {},
   "outputs": [],
   "source": []
  }
 ],
 "metadata": {
  "kernelspec": {
   "display_name": "Python 3 (ipykernel)",
   "language": "python",
   "name": "python3"
  },
  "language_info": {
   "codemirror_mode": {
    "name": "ipython",
    "version": 3
   },
   "file_extension": ".py",
   "mimetype": "text/x-python",
   "name": "python",
   "nbconvert_exporter": "python",
   "pygments_lexer": "ipython3",
   "version": "3.9.7"
  }
 },
 "nbformat": 4,
 "nbformat_minor": 5
}
