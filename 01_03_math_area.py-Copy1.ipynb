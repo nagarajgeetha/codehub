{
 "cells": [
  {
   "cell_type": "code",
   "execution_count": 17,
   "id": "31296ee3",
   "metadata": {},
   "outputs": [
    {
     "name": "stdout",
     "output_type": "stream",
     "text": [
      "The area of a rectangle is 30\n",
      "The area of a cube is 54\n",
      "The area of a sphere is 50.26548245743669\n"
     ]
    }
   ],
   "source": [
    "# write a function that takes the length and width of a rectangle and returns the area\n",
    "\n",
    "\n",
    "# write another function that finds the area of a cube\n",
    "# bonus challenge: use your first function inside this function!\n",
    "\n",
    "\n",
    "# write a function that finds the area of a sphere\n",
    "# hint: you can get `pi` by importing math (google it!)\n",
    "import math\n",
    "def find_rect_area(l,b):\n",
    "    \n",
    "    return l*b\n",
    "\n",
    "def find_cube_area(a):\n",
    "    return 6*a**2\n",
    "\n",
    "def find_area_sphere(r):\n",
    "    return 4 * math.pi * r**2\n",
    "\n",
    "print(\"The area of a rectangle is\",find_rect_area(5,6))\n",
    "print(\"The area of a cube is\",find_cube_area(3))\n",
    "print(\"The area of a sphere is\",find_area_sphere(2))\n"
   ]
  },
  {
   "cell_type": "code",
   "execution_count": null,
   "id": "4596a9d0",
   "metadata": {},
   "outputs": [],
   "source": []
  }
 ],
 "metadata": {
  "kernelspec": {
   "display_name": "Python 3 (ipykernel)",
   "language": "python",
   "name": "python3"
  },
  "language_info": {
   "codemirror_mode": {
    "name": "ipython",
    "version": 3
   },
   "file_extension": ".py",
   "mimetype": "text/x-python",
   "name": "python",
   "nbconvert_exporter": "python",
   "pygments_lexer": "ipython3",
   "version": "3.9.7"
  }
 },
 "nbformat": 4,
 "nbformat_minor": 5
}
