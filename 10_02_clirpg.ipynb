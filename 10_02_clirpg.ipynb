{
 "cells": [
  {
   "cell_type": "code",
   "execution_count": 13,
   "id": "4edd1b90",
   "metadata": {},
   "outputs": [
    {
     "name": "stdout",
     "output_type": "stream",
     "text": [
      "Please enter your namegita\n",
      "Welcome to the world of game gita\n",
      "Please enter right door or left doorright\n",
      "I am a dragon waiting to kill you\n",
      "Do u wish to go the left door? Type y/n onlyn\n",
      "You are on the right side room\n",
      "Do u find a sword?TYPE y/n onlyn\n",
      "You lost the game\n"
     ]
    }
   ],
   "source": [
    "# Build a CLI RPG game following the instructions from the course.\n",
    "\n",
    "# Ask the player for their name.\n",
    "\n",
    "# Display a message that greets them and introduces them to the game world.\n",
    "\n",
    "# Present them with a choice between two doors.\n",
    "\n",
    "# If they choose the left door, they'll see an empty room.\n",
    "\n",
    "# If they choose the right door, then they encounter a dragon.\n",
    "\n",
    "# In both cases, they have the option to return to the previous room or interact further.\n",
    "\n",
    "# When in the seemingly empty room, they can choose to look around. If they do so, they will find a sword. They can choose to take it or leave it.\n",
    "\n",
    "# When encountering the dragon, they have the choice to fight it.\n",
    "\n",
    "# If they have the sword from the other room, then they will be able to defeat it and win the game.\n",
    "\n",
    "# If they don't have the sword, then they will be eaten by the dragon and lose the game.\n",
    "\n",
    "\n",
    "player_name=input(\"Please enter your name\")\n",
    "\n",
    "print(\"Welcome to the world of game\", player_name)\n",
    "\n",
    "door_option=input(\"Please enter right door or left door\")\n",
    "\n",
    "if door_option==\"left\":\n",
    "    print(\"This is an empty room\")\n",
    "    return_option=input(\"Do u wish to go the right door? Type y/n only\")\n",
    "    \n",
    "    if return_option==\"y\":\n",
    "        print(\" You are entering the right door now.\")\n",
    "        sword_availability=input(\"Do u find a sword?TYPE y/n only\")\n",
    "        if sword_availability==\"y\":\n",
    "            print(\"congratulations!, you have defeated the dragon and won the game.\")\n",
    "        else:\n",
    "            print(\"You lost the game\")\n",
    "    elif return_option==\"n\":\n",
    "        print(\"Ok you remain in the same room\")\n",
    "        print(\"Look around and u will find a sword\")\n",
    "        sword_option=input(\"Do u want to use the sword to encounter dragon?Type y/n only\")\n",
    "        if sword_option==\"y\":\n",
    "            print(\"Take the sword and get ready to fight\")\n",
    "        else:\n",
    "            print(\"just leave\")\n",
    "        \n",
    "else:\n",
    "     \n",
    "    print(\"I am a dragon waiting to kill you\")\n",
    "    return_option=input(\"Do u wish to go the left door? Type y/n only\")\n",
    "    if return_option==\"y\":\n",
    "        print(\" You have entered the left door now.\")\n",
    "        sword_option=input(\"Do u want to use the sword to encounter dragon?Type y/n only\")\n",
    "        if sword_option==\"y\":\n",
    "            print(\"Take the sword and get ready to fight\")\n",
    "        else:\n",
    "            print(\"just leave\")\n",
    "    elif return_option==\"n\":\n",
    "        print(\"You are on the right side room\")\n",
    "    sword_availability=input(\"Do u find a sword?TYPE y/n only\")\n",
    "    if sword_availability==\"y\":\n",
    "        print(\"congratulations!, you have defeated the dragon and won the game.\")\n",
    "    else:\n",
    "        print(\"You lost the game\")\n",
    "    \n",
    "\n"
   ]
  },
  {
   "cell_type": "code",
   "execution_count": null,
   "id": "136e789e",
   "metadata": {},
   "outputs": [],
   "source": []
  },
  {
   "cell_type": "code",
   "execution_count": null,
   "id": "64956baf",
   "metadata": {},
   "outputs": [],
   "source": []
  },
  {
   "cell_type": "code",
   "execution_count": null,
   "id": "ffc74122",
   "metadata": {},
   "outputs": [],
   "source": []
  }
 ],
 "metadata": {
  "kernelspec": {
   "display_name": "Python 3 (ipykernel)",
   "language": "python",
   "name": "python3"
  },
  "language_info": {
   "codemirror_mode": {
    "name": "ipython",
    "version": 3
   },
   "file_extension": ".py",
   "mimetype": "text/x-python",
   "name": "python",
   "nbconvert_exporter": "python",
   "pygments_lexer": "ipython3",
   "version": "3.9.7"
  }
 },
 "nbformat": 4,
 "nbformat_minor": 5
}
