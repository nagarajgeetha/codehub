{
 "cells": [
  {
   "cell_type": "code",
   "execution_count": 2,
   "id": "5f549bd9",
   "metadata": {},
   "outputs": [
    {
     "name": "stdout",
     "output_type": "stream",
     "text": [
      "x inside the function is: 100\n",
      "110\n",
      "100\n",
      "x inside the function is: 100\n",
      "110\n",
      "100\n"
     ]
    }
   ],
   "source": [
    "\"\"\"\n",
    "experiment with the function below\n",
    "1. run the script as is. What prints out? Are you surprised?\n",
    "2. Modify the function so that x becomes a local variable. There are two ways to do this.\n",
    "   a. pass x into the function through the arguments\n",
    "   b. create a new x variable inside the function.\n",
    "3. After modifying the function, is the x inside the function the same as the x outside? Are they different? Why or why not?\n",
    "\"\"\"\n",
    "x = 100\n",
    "\n",
    "\n",
    "def add_to_me(num):\n",
    "    y = num + x\n",
    "    print(f\"x inside the function is: {x}\")\n",
    "    return y\n",
    "\n",
    "\n",
    "z = add_to_me(10)\n",
    "print(z)\n",
    "\n",
    "print(x)  # what do you think will print out?\n",
    "\n",
    "\n",
    "\n",
    "\n",
    "\n",
    "\n",
    "def add_to_me1(num):\n",
    "    x = 100\n",
    "    y = num + x\n",
    "    print(f\"x inside the function is: {x}\")\n",
    "    return y\n",
    "\n",
    "\n",
    "z = add_to_me1(10)\n",
    "print(z)\n",
    "\n",
    "print(x)  # It will print 100"
   ]
  },
  {
   "cell_type": "code",
   "execution_count": null,
   "id": "b32a3b4f",
   "metadata": {},
   "outputs": [],
   "source": []
  }
 ],
 "metadata": {
  "kernelspec": {
   "display_name": "Python 3 (ipykernel)",
   "language": "python",
   "name": "python3"
  },
  "language_info": {
   "codemirror_mode": {
    "name": "ipython",
    "version": 3
   },
   "file_extension": ".py",
   "mimetype": "text/x-python",
   "name": "python",
   "nbconvert_exporter": "python",
   "pygments_lexer": "ipython3",
   "version": "3.9.7"
  }
 },
 "nbformat": 4,
 "nbformat_minor": 5
}
