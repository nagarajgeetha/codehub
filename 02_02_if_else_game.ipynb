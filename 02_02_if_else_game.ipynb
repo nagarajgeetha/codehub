{
 "cells": [
  {
   "cell_type": "code",
   "execution_count": 30,
   "id": "8c3d699a",
   "metadata": {},
   "outputs": [
    {
     "name": "stdout",
     "output_type": "stream",
     "text": [
      "Enter your name heregita\n",
      "Hello, welcome gita\n",
      "ur name begins with consonants\n",
      "Please enter your number between 1-103\n",
      "you lost\n"
     ]
    }
   ],
   "source": [
    "# write a short command line game\n",
    "\n",
    "# 1. ask the user for their name: (use the input() function)\n",
    "\n",
    "# Say hello to them with their name\n",
    "# If their name begins with a vowel say something funny about that (\"Aha! Oho! Uhu! Ihi! etc\", your name begins with a vowel!)\n",
    "# If their n ame begins with a consonant make an even better joke about it.\n",
    "\n",
    "# Ask them to pick a number between 1 and 10.\n",
    "# If they guessed the right number, tell them they won\n",
    "# Else, tell them they lost.\n",
    "\n",
    "import random\n",
    "\n",
    "random_number = random.randint(0, 10)\n",
    "\n",
    "user_name=input(\"Enter your name here\")\n",
    "print(\"Hello, welcome\", user_name)\n",
    "\n",
    "if user_name.startswith(('a','e','i','o','u')):\n",
    "    print(\"ur name has vowels\")\n",
    "else:\n",
    "    print(\"ur name begins with consonants\")\n",
    "    \n",
    "selected_number=5\n",
    "    \n",
    "user_number=int(input(\"Please enter your number between 1-10\"))\n",
    "\n",
    "\n",
    "if selected_number==user_number:\n",
    "    print(\"u choose the correct number\")\n",
    "else:\n",
    "    print(\"you lost\")\n",
    "    \n",
    "    \n"
   ]
  },
  {
   "cell_type": "code",
   "execution_count": null,
   "id": "07edafe6",
   "metadata": {},
   "outputs": [],
   "source": []
  },
  {
   "cell_type": "code",
   "execution_count": null,
   "id": "635279b5",
   "metadata": {},
   "outputs": [],
   "source": []
  },
  {
   "cell_type": "code",
   "execution_count": null,
   "id": "05825894",
   "metadata": {},
   "outputs": [],
   "source": []
  }
 ],
 "metadata": {
  "kernelspec": {
   "display_name": "Python 3 (ipykernel)",
   "language": "python",
   "name": "python3"
  },
  "language_info": {
   "codemirror_mode": {
    "name": "ipython",
    "version": 3
   },
   "file_extension": ".py",
   "mimetype": "text/x-python",
   "name": "python",
   "nbconvert_exporter": "python",
   "pygments_lexer": "ipython3",
   "version": "3.9.7"
  }
 },
 "nbformat": 4,
 "nbformat_minor": 5
}
