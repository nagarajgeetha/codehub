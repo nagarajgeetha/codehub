{
 "cells": [
  {
   "cell_type": "code",
   "execution_count": 2,
   "id": "10cc5e75",
   "metadata": {},
   "outputs": [
    {
     "name": "stdout",
     "output_type": "stream",
     "text": [
      "The even numbers in the list are  [8, 2, 12, 32, 6, 12, 326, 12, 32, 14, 2]\n",
      "The other numbers in the list are  [3, 125, 21, 3, 23, 3, 45]\n"
     ]
    }
   ],
   "source": [
    "# convert the following code into a function\n",
    "# your function should take a single list as input\n",
    "# it should return a list with only the even numbers from the input list\n",
    "\n",
    "'''numbers = [2, 1, 3, 5, 1, 2, 3, 12, 3, 45, 1, 2, 3]\n",
    "\n",
    "div_2 = []\n",
    "for i in numbers:\n",
    "    if i % 2 == 0:\n",
    "        div_2.append(i)\n",
    "#print(div_2)\n",
    "\n",
    "other_numbers = [8, 2, 3, 125, 12, 32, 21, 3, 6, 23, 12, 3, 326, 45, 12, 32, 14, 2]\n",
    "#new_div_2 = []\n",
    "#for i in numbers:\n",
    "   # if i % 2 == 0:\n",
    "       # new_div_2.append(i)\n",
    "\n",
    "#print(new_div_2)\n",
    "\n",
    "\n",
    "#count=int(input(\"Enter the length of numbers\"))\n",
    "#print(count)\n",
    "#emp_list = []\n",
    "#for i in range(count):\n",
    "   # user_input=input(\"Enter the number\")\n",
    "    #emp_list.append(int(user_input))\n",
    "#print(emp_list)'''\n",
    "\n",
    "numbers = [8, 2, 3, 125, 12, 32, 21, 3, 6, 23, 12, 3, 326, 45, 12, 32, 14, 2]\n",
    "def find_even(numbers):\n",
    "    \n",
    "    other_numb=[]\n",
    "   \n",
    "    new_div_2 = []\n",
    "    for i in numbers:\n",
    "        if i % 2 == 0:\n",
    "            new_div_2.append(i)\n",
    "                \n",
    "        \n",
    "        else:\n",
    "                      \n",
    "                other_numb.append(i)\n",
    "             \n",
    "\n",
    "    print(\"The even numbers in the list are \",new_div_2)\n",
    "    print(\"The other numbers in the list are \",other_numb)\n",
    "\n",
    "\n",
    "find_even(numbers)\n",
    "\n",
    "\n",
    "\n",
    "            \n",
    "\n",
    "\n",
    "\n"
   ]
  },
  {
   "cell_type": "code",
   "execution_count": 35,
   "id": "3371fe0a",
   "metadata": {},
   "outputs": [
    {
     "name": "stdout",
     "output_type": "stream",
     "text": [
      "welcome\n"
     ]
    }
   ],
   "source": [
    "print(\"welcome\")"
   ]
  },
  {
   "cell_type": "code",
   "execution_count": 3,
   "id": "50d69ae7",
   "metadata": {},
   "outputs": [
    {
     "name": "stdout",
     "output_type": "stream",
     "text": [
      "Test\n"
     ]
    }
   ],
   "source": [
    "print(\"Test\")"
   ]
  },
  {
   "cell_type": "code",
   "execution_count": null,
   "id": "c1e45f38",
   "metadata": {},
   "outputs": [],
   "source": []
  },
  {
   "cell_type": "code",
   "execution_count": null,
   "id": "20f4c802",
   "metadata": {},
   "outputs": [],
   "source": []
  }
 ],
 "metadata": {
  "kernelspec": {
   "display_name": "Python 3 (ipykernel)",
   "language": "python",
   "name": "python3"
  },
  "language_info": {
   "codemirror_mode": {
    "name": "ipython",
    "version": 3
   },
   "file_extension": ".py",
   "mimetype": "text/x-python",
   "name": "python",
   "nbconvert_exporter": "python",
   "pygments_lexer": "ipython3",
   "version": "3.9.7"
  }
 },
 "nbformat": 4,
 "nbformat_minor": 5
}
