{
 "cells": [
  {
   "cell_type": "code",
   "execution_count": 4,
   "id": "1dbe59ce",
   "metadata": {},
   "outputs": [
    {
     "name": "stdout",
     "output_type": "stream",
     "text": [
      "<class 'tuple'>\n"
     ]
    }
   ],
   "source": [
    "# Write a function that returns multiple values\n",
    "# example idea:\n",
    "\n",
    "\n",
    "\n",
    "\"\"\"\n",
    "    Input:\n",
    "        first_name: str\n",
    "        last_name: str\n",
    "    returns:\n",
    "        first_name, last_name \n",
    "\n",
    "    This function takes the first name and last name and lowercases them\n",
    "\n",
    "    example input: GILAD GRESSEL\n",
    "    output: gilad gressel\n",
    "\"\"\"\n",
    "\n",
    "\n",
    "# what happens when you return multiple variables ?\n",
    "\n",
    "#first, last = lower_names(\"GILAD\", \"GRESSEL\")  # how does this work?\n",
    "#names = lower_names(\"GILAD\", \"GRESSEL\")  # what datatype is names?\n",
    "\n",
    "def lower_names(first_name, last_name):\n",
    "    c=first_name.lower()\n",
    "    d=last_name.lower()\n",
    "    \n",
    "    return c,d \n",
    "lower_names(\"NAGARAJ\", \"GEETHA\")\n",
    "first_name,last_name=lower_names(\"NAGARAJ\", \"GEETHA\")\n",
    "names = lower_names(\"NAGARAJ\", \"GEETHA\")\n",
    "print(type(names))\n"
   ]
  },
  {
   "cell_type": "code",
   "execution_count": null,
   "id": "261f4e20",
   "metadata": {},
   "outputs": [],
   "source": []
  }
 ],
 "metadata": {
  "kernelspec": {
   "display_name": "Python 3 (ipykernel)",
   "language": "python",
   "name": "python3"
  },
  "language_info": {
   "codemirror_mode": {
    "name": "ipython",
    "version": 3
   },
   "file_extension": ".py",
   "mimetype": "text/x-python",
   "name": "python",
   "nbconvert_exporter": "python",
   "pygments_lexer": "ipython3",
   "version": "3.9.7"
  }
 },
 "nbformat": 4,
 "nbformat_minor": 5
}
