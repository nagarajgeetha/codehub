{
 "cells": [
  {
   "cell_type": "code",
   "execution_count": 5,
   "id": "f710a5d2",
   "metadata": {},
   "outputs": [
    {
     "name": "stdout",
     "output_type": "stream",
     "text": [
      " Welcome Athira. Have a wonderful day\n"
     ]
    }
   ],
   "source": [
    "# complete the function below\n",
    "# say_hello should accept a users name, and then print out a custom greeting with their name\n",
    "\n",
    "# print(say_hello('gilad'))\n",
    "# should output something funny like : \"hey gilad, your pants are on fire!!!!\"\n",
    "\n",
    "\n",
    "def say_hello(name):\n",
    "    \n",
    "    print(f\" Welcome {name}. Have a wonderful day\")\n",
    "    \n",
    "say_hello(\"Athira\")\n",
    "   \n"
   ]
  },
  {
   "cell_type": "code",
   "execution_count": null,
   "id": "ebdcc22d",
   "metadata": {},
   "outputs": [],
   "source": []
  }
 ],
 "metadata": {
  "kernelspec": {
   "display_name": "Python 3 (ipykernel)",
   "language": "python",
   "name": "python3"
  },
  "language_info": {
   "codemirror_mode": {
    "name": "ipython",
    "version": 3
   },
   "file_extension": ".py",
   "mimetype": "text/x-python",
   "name": "python",
   "nbconvert_exporter": "python",
   "pygments_lexer": "ipython3",
   "version": "3.9.7"
  }
 },
 "nbformat": 4,
 "nbformat_minor": 5
}
