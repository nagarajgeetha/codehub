{
 "cells": [
  {
   "cell_type": "code",
   "execution_count": 111,
   "id": "43e1d51a",
   "metadata": {},
   "outputs": [
    {
     "name": "stdout",
     "output_type": "stream",
     "text": [
      "True\n",
      "True\n",
      "[]\n"
     ]
    }
   ],
   "source": [
    "'''# run the function below\n",
    "\n",
    "list_of_vowels = [\"a\", \"e\", \"i\", \"o\", \"u\"]\n",
    "\n",
    "\n",
    "def check_for_vowels(string_to_count):\n",
    "    \"\"\"\n",
    "    Function will count if all vowels occur within the string\n",
    "    \"\"\"\n",
    "    for char in string_to_count:\n",
    "        if char.lower() in list_of_vowels:\n",
    "            list_of_vowels.remove(char)\n",
    "\n",
    "    if len(list_of_vowels) == 0:  # all vowels were found, so all vowels removed\n",
    "        return True\n",
    "    else:\n",
    "        return False  # not all vowels found something is still in the list\n",
    "\n",
    "\n",
    "# run the above function.\n",
    "\n",
    "print(check_for_vowels(\"sequoia\"))  # should be true\n",
    "\n",
    "## can you re-use the function?\n",
    "\n",
    "print(check_for_vowels(\"The\"))  # this should be False!\n",
    "\n",
    "# what is wrong?\n",
    "\n",
    "## try printing list_of_vowels\n",
    "# print(list_of_vowels)\n",
    "# why is it empty?\n",
    "\n",
    "## Fix the function so this does not happen!'''\n",
    "\n",
    "\n",
    "list_of_vowels = [\"a\", \"e\", \"i\", \"o\", \"u\"]\n",
    "\n",
    "\n",
    "def check_for_vowels(string_to_count):\n",
    "    \"\"\"\n",
    "    Function will count if all vowels occur within the string\n",
    "    \"\"\"\n",
    "    for char in string_to_count:\n",
    "        if string_to_count in list_of_vowels:\n",
    "            string_to_count.count(char)\n",
    "\n",
    "    if len(string_to_cou) == 0:  # all vowels were found, so all vowels removed\n",
    "        return True\n",
    "    else:\n",
    "        return False  # not all vowels found something is still in the list\n",
    "\n",
    "\n",
    "\n",
    "\n",
    "\n",
    "print(check_for_vowels(\"sequoia\"))\n",
    "print(check_for_vowels(\"The\"))\n",
    "\n",
    "print(list_of_vowels)\n",
    "\n",
    "    \n",
    "\n",
    "\n",
    "\n",
    "\n",
    "\n",
    "\n",
    "\n",
    "\n"
   ]
  },
  {
   "cell_type": "code",
   "execution_count": null,
   "id": "f754a308",
   "metadata": {},
   "outputs": [],
   "source": []
  },
  {
   "cell_type": "code",
   "execution_count": null,
   "id": "1656ba1a",
   "metadata": {},
   "outputs": [],
   "source": []
  }
 ],
 "metadata": {
  "kernelspec": {
   "display_name": "Python 3 (ipykernel)",
   "language": "python",
   "name": "python3"
  },
  "language_info": {
   "codemirror_mode": {
    "name": "ipython",
    "version": 3
   },
   "file_extension": ".py",
   "mimetype": "text/x-python",
   "name": "python",
   "nbconvert_exporter": "python",
   "pygments_lexer": "ipython3",
   "version": "3.9.7"
  }
 },
 "nbformat": 4,
 "nbformat_minor": 5
}
