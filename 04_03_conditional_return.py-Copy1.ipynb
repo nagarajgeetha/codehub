{
 "cells": [
  {
   "cell_type": "code",
   "execution_count": 1,
   "id": "858bd015",
   "metadata": {},
   "outputs": [
    {
     "data": {
      "text/plain": [
       "False"
      ]
     },
     "execution_count": 1,
     "metadata": {},
     "output_type": "execute_result"
    }
   ],
   "source": [
    "# write a function that has more than one return statement\n",
    "\n",
    "\n",
    "\n",
    "\"\"\"\n",
    "    input:\n",
    "       n: int\n",
    "       x: int\n",
    "    returns:\n",
    "       True if n > x\n",
    "       False otherwise\n",
    "\"\"\"\n",
    "\n",
    "\n",
    "### Extra credit\n",
    "# Is it required to use the else block? Can you write the above code with only the if statement but no else?\n",
    "\n",
    "def greater_than_x(n, x):\n",
    "    \n",
    "    if n> x:\n",
    "        return True\n",
    "    if x> n:\n",
    "        return False\n",
    "    \n",
    "greater_than_x(3,4)"
   ]
  },
  {
   "cell_type": "code",
   "execution_count": null,
   "id": "44de60a1",
   "metadata": {},
   "outputs": [],
   "source": []
  }
 ],
 "metadata": {
  "kernelspec": {
   "display_name": "Python 3 (ipykernel)",
   "language": "python",
   "name": "python3"
  },
  "language_info": {
   "codemirror_mode": {
    "name": "ipython",
    "version": 3
   },
   "file_extension": ".py",
   "mimetype": "text/x-python",
   "name": "python",
   "nbconvert_exporter": "python",
   "pygments_lexer": "ipython3",
   "version": "3.9.7"
  }
 },
 "nbformat": 4,
 "nbformat_minor": 5
}
