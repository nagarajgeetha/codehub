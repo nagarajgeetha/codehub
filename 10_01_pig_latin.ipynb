{
 "cells": [
  {
   "cell_type": "code",
   "execution_count": 53,
   "id": "cd623ead",
   "metadata": {},
   "outputs": [
    {
     "name": "stdout",
     "output_type": "stream",
     "text": [
      "tAay aay reatgay eetingmay foay hetay nimals,Aay howay adhay atheredgay otay lecteay aay ewnay uler,ray hetay onkeyMay asway skedaay otay ance.day hisTay ehay idday osay ell,way ithway aay housandtay unnyfay aperscay ndaay rimaces,gay hattay hetay nimalsAay ereway arriedcay ntirelyeay ffoay heirtay eetfay ithway nthusiasm,eay ndaay hentay ndaay here,tay lectedeay imhay heirtay ing.kay heTay oxFay idday otnay otevay orfay hetay onkeyMay ndaay asway uchmay isgustedday ithway hetay nimalsAay orfay lectingeay osay nworthyuay aay uler.ray neOay ayday ehay oundfay aay raptay ithway aay itbay foay eatmay niay t.iay urryingHay otay ingKay onkey,May ehay oldtay imhay ehay adhay oundfay aay ichray reasure,tay hichway ehay adhay otnay ouchedtay ecausebay tiay elongedbay ybay ightray otay ishay ajestymay hetay onkey.May heTay reedygay onkeyMay ollowedfay hetay oxFay otay hetay rap.tay sAay oonsay saay ehay awsay hetay eatmay ehay raspedgay agerlyeay orfay t,iay nlyoay otay indfay imselfhay eldhay astfay niay hetay rap.tay heTay oxFay toodsay ffoay ndaay aughed.lay You\"ay retendpay otay ebay uroay ing,\"kay ehay aid,say and\"ay annotcay veneay aketay arecay foay ourself!\"yay hortlySay fteraay hat,tay notheraay lectioneay mongaay hetay nimalsAay asway eld.hay "
     ]
    }
   ],
   "source": [
    "# Use a `for` loop to iterate over the story text\n",
    "# and string slicing to translate it to ~pig latin.\n",
    "# For the purpose of this program, we will say that any word or name can be\n",
    "# translated to pig latin by moving the first letter to the end, followed by \"ay\".\n",
    "# You'll need to use conditional statements to decide when a word is over.\n",
    "#\n",
    "# For example: You would never guess --> ouyay ouldway evernay uessgay\n",
    "\n",
    "\n",
    "\n",
    "story = \"\"\"\n",
    "At a great meeting of the Animals, who had gathered to elect a new ruler, the Monkey was asked to dance. This he did so well, with a thousand funny capers and grimaces, that the Animals were carried entirely off their feet with enthusiasm, and then and there, elected him their king.\n",
    "The Fox did not vote for the Monkey and was much disgusted with the Animals for electing so unworthy a ruler.\n",
    "One day he found a trap with a bit of meat in it. Hurrying to King Monkey, he told him he had found a rich treasure, which he had not touched because it belonged by right to his majesty the Monkey.\n",
    "The greedy Monkey followed the Fox to the trap. As soon as he saw the meat he grasped eagerly for it, only to find himself held fast in the trap. The Fox stood off and laughed.\n",
    "\"You pretend to be our king,\" he said, \"and cannot even take care of yourself!\"\n",
    "Shortly after that, another election among the Animals was held.\n",
    "\"\"\"\n",
    "\n",
    "res=story.split()\n",
    "#print(res)\n",
    "\n",
    "\n",
    "for i in res:\n",
    "        \n",
    "          \n",
    "        print(i[1:]+i[0]+\"ay\",end=\" \")\n",
    "        \n",
    "    \n",
    "\n",
    "\n"
   ]
  },
  {
   "cell_type": "code",
   "execution_count": null,
   "id": "ea14d218",
   "metadata": {},
   "outputs": [],
   "source": []
  },
  {
   "cell_type": "code",
   "execution_count": null,
   "id": "206dc648",
   "metadata": {},
   "outputs": [],
   "source": []
  }
 ],
 "metadata": {
  "kernelspec": {
   "display_name": "Python 3 (ipykernel)",
   "language": "python",
   "name": "python3"
  },
  "language_info": {
   "codemirror_mode": {
    "name": "ipython",
    "version": 3
   },
   "file_extension": ".py",
   "mimetype": "text/x-python",
   "name": "python",
   "nbconvert_exporter": "python",
   "pygments_lexer": "ipython3",
   "version": "3.9.7"
  }
 },
 "nbformat": 4,
 "nbformat_minor": 5
}
