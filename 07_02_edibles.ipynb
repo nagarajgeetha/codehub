{
 "cells": [
  {
   "cell_type": "code",
   "execution_count": null,
   "id": "be553532",
   "metadata": {},
   "outputs": [],
   "source": [
    "# Extract four words of edible food items from the sentence below.\n",
    "# Use only string slicing to pick them out!\n",
    "# Feel free to use pen and paper to number the indices\n",
    "# and find the locations quicker.\n",
    "#\n",
    "# What dish can you make from these ingredients? :)\n",
    "\n",
    "s = \"They grappled with their leggins before going to see the buttercups flourish.\""
   ]
  },
  {
   "cell_type": "code",
   "execution_count": 9,
   "id": "838cc6e8",
   "metadata": {},
   "outputs": [
    {
     "name": "stdout",
     "output_type": "stream",
     "text": [
      "flour\n"
     ]
    }
   ],
   "source": [
    "s = \"They grappled with their leggins before going to see the buttercups flourish.\"\n",
    "strlgth=len(s)\n",
    "edb1=s[-9:-4]\n",
    "print(edb1)"
   ]
  },
  {
   "cell_type": "code",
   "execution_count": 12,
   "id": "a43ce8bf",
   "metadata": {},
   "outputs": [
    {
     "name": "stdout",
     "output_type": "stream",
     "text": [
      "butter\n"
     ]
    }
   ],
   "source": [
    "edb2=s[-20:-14]\n",
    "print(edb2)"
   ]
  },
  {
   "cell_type": "code",
   "execution_count": 15,
   "id": "9626e897",
   "metadata": {},
   "outputs": [
    {
     "name": "stdout",
     "output_type": "stream",
     "text": [
      "egg\n"
     ]
    }
   ],
   "source": [
    "edb3=s[26:29]\n",
    "print(edb3)"
   ]
  },
  {
   "cell_type": "code",
   "execution_count": 17,
   "id": "35388d9c",
   "metadata": {},
   "outputs": [
    {
     "name": "stdout",
     "output_type": "stream",
     "text": [
      "apple\n"
     ]
    }
   ],
   "source": [
    "edb4=s[7:12]\n",
    "print(edb4)"
   ]
  },
  {
   "cell_type": "code",
   "execution_count": 19,
   "id": "32ecbadb",
   "metadata": {},
   "outputs": [
    {
     "name": "stdout",
     "output_type": "stream",
     "text": [
      "flour butter egg apple\n"
     ]
    }
   ],
   "source": [
    "ingredients=edb1+\" \"+edb2+\" \"+edb3+\" \"+edb4\n",
    "print(ingredients)"
   ]
  },
  {
   "cell_type": "code",
   "execution_count": 21,
   "id": "311c6979",
   "metadata": {},
   "outputs": [
    {
     "name": "stdout",
     "output_type": "stream",
     "text": [
      "With flour butter egg apple, you can make apple pie :-)\n"
     ]
    }
   ],
   "source": [
    "print(f\"With {ingredients}, you can make apple pie :-)\")"
   ]
  },
  {
   "cell_type": "code",
   "execution_count": null,
   "id": "e4bbbc6e",
   "metadata": {},
   "outputs": [],
   "source": []
  }
 ],
 "metadata": {
  "kernelspec": {
   "display_name": "Python 3 (ipykernel)",
   "language": "python",
   "name": "python3"
  },
  "language_info": {
   "codemirror_mode": {
    "name": "ipython",
    "version": 3
   },
   "file_extension": ".py",
   "mimetype": "text/x-python",
   "name": "python",
   "nbconvert_exporter": "python",
   "pygments_lexer": "ipython3",
   "version": "3.9.7"
  }
 },
 "nbformat": 4,
 "nbformat_minor": 5
}
