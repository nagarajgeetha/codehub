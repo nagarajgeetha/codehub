{
 "cells": [
  {
   "cell_type": "code",
   "execution_count": 1,
   "id": "9da6be5a",
   "metadata": {},
   "outputs": [
    {
     "name": "stdout",
     "output_type": "stream",
     "text": [
      "61\n",
      "44\n",
      "61\n",
      "62\n"
     ]
    }
   ],
   "source": [
    "longest_german_word = \"Donaudampfschifffahrtsgesellschaftskapitänskajütentürschnalle\"\n",
    "longest_hungarian_word = \"Megszentségteleníthetetlenségeskedéseitekért\"\n",
    "longest_finnish_word = \"Lentokonesuihkuturbiinimoottoriapumekaanikkoaliupseerioppilas\"\n",
    "strong_password = \"%8Ddb^ca<*'{9pur/Y(8n}^QPm3G?JJY}\\(<bCGHv^FfM}.;)khpkSYTfMA@>N\"\n",
    "print(len(longest_german_word))\n",
    "print(len(longest_hungarian_word))\n",
    "print(len(longest_finnish_word))\n",
    "print(len(strong_password))"
   ]
  },
  {
   "cell_type": "code",
   "execution_count": 6,
   "id": "b389ab23",
   "metadata": {},
   "outputs": [
    {
     "name": "stdout",
     "output_type": "stream",
     "text": [
      " The longest string is STRONG PASSWORD WHICH IS 62\n"
     ]
    }
   ],
   "source": [
    "print(f\" The longest string is STRONG PASSWORD WHICH IS {len(strong_password)}\")"
   ]
  },
  {
   "cell_type": "code",
   "execution_count": null,
   "id": "703dec69",
   "metadata": {},
   "outputs": [],
   "source": []
  }
 ],
 "metadata": {
  "kernelspec": {
   "display_name": "Python 3 (ipykernel)",
   "language": "python",
   "name": "python3"
  },
  "language_info": {
   "codemirror_mode": {
    "name": "ipython",
    "version": 3
   },
   "file_extension": ".py",
   "mimetype": "text/x-python",
   "name": "python",
   "nbconvert_exporter": "python",
   "pygments_lexer": "ipython3",
   "version": "3.9.7"
  }
 },
 "nbformat": 4,
 "nbformat_minor": 5
}
