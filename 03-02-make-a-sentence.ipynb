{
 "cells": [
  {
   "cell_type": "code",
   "execution_count": 2,
   "id": "cdab8f2a",
   "metadata": {},
   "outputs": [
    {
     "name": "stdout",
     "output_type": "stream",
     "text": [
      "By seeking and blundering  we learn.\n"
     ]
    }
   ],
   "source": [
    "# Create a proper sentence by using f-strings to combine\n",
    "# the variables below into a nice sentence.\n",
    "# Add your own strings, if necessary, to make it readable.\n",
    "\n",
    "q1 = \"By seeking\"\n",
    "q2 = \" and\"\n",
    "q3 = \" blundering\"\n",
    "q4 = \"  we learn.\"\n",
    "print(f\"{q1}{q2}{q3}{q4}\")"
   ]
  },
  {
   "cell_type": "code",
   "execution_count": null,
   "id": "e7a2badd",
   "metadata": {},
   "outputs": [],
   "source": []
  }
 ],
 "metadata": {
  "kernelspec": {
   "display_name": "Python 3 (ipykernel)",
   "language": "python",
   "name": "python3"
  },
  "language_info": {
   "codemirror_mode": {
    "name": "ipython",
    "version": 3
   },
   "file_extension": ".py",
   "mimetype": "text/x-python",
   "name": "python",
   "nbconvert_exporter": "python",
   "pygments_lexer": "ipython3",
   "version": "3.9.7"
  }
 },
 "nbformat": 4,
 "nbformat_minor": 5
}
